{
 "cells": [
  {
   "cell_type": "code",
   "execution_count": 1,
   "id": "f8a2bf50-945d-4aea-a583-faeca86d1b12",
   "metadata": {},
   "outputs": [],
   "source": [
    "import pandas as pd"
   ]
  },
  {
   "cell_type": "code",
   "execution_count": 21,
   "id": "58696ea4-70ca-441d-a240-6a281fadbd29",
   "metadata": {},
   "outputs": [],
   "source": [
    "import subprocess\n",
    "\n",
    "proc = subprocess.Popen([\"an-array-of-spanish-words\"], stdout=subprocess.PIPE, shell=True)\n",
    "(out, err) = proc.communicate()"
   ]
  },
  {
   "cell_type": "code",
   "execution_count": 34,
   "id": "a182a8e0-d415-4cb5-8811-48e8a35532d5",
   "metadata": {},
   "outputs": [],
   "source": [
    "words = out.decode().split('\\n')\n",
    "valid_words = [word for word in words if len(word)==5]"
   ]
  },
  {
   "cell_type": "code",
   "execution_count": 36,
   "id": "acaad982-a13e-432f-aa5f-faef32230ad3",
   "metadata": {},
   "outputs": [
    {
     "data": {
      "text/plain": [
       "0        ababa\n",
       "1        abaca\n",
       "2        abaco\n",
       "3        abada\n",
       "4        abadi\n",
       "         ...  \n",
       "10831    ñurda\n",
       "10832    ñurdo\n",
       "10833    ñutas\n",
       "10834    ñutos\n",
       "10835    ñuzco\n",
       "Length: 10836, dtype: object"
      ]
     },
     "execution_count": 36,
     "metadata": {},
     "output_type": "execute_result"
    }
   ],
   "source": [
    "words = pd.Series(valid_words)\n",
    "words "
   ]
  },
  {
   "cell_type": "code",
   "execution_count": 38,
   "id": "4544278d-a0e3-4e79-a016-d2497952c343",
   "metadata": {},
   "outputs": [],
   "source": [
    "formatted = \"  \" + \"'\" + words + \"'\" + \",\"\n",
    "formatted.to_csv('palabras_valid.txt', sep='\\n', index=False, header=None)"
   ]
  },
  {
   "cell_type": "code",
   "execution_count": null,
   "id": "9c9e4ecf-f446-4e3a-b6ff-5298c508772c",
   "metadata": {},
   "outputs": [],
   "source": []
  }
 ],
 "metadata": {
  "kernelspec": {
   "display_name": "Python 3 (ipykernel)",
   "language": "python",
   "name": "python3"
  },
  "language_info": {
   "codemirror_mode": {
    "name": "ipython",
    "version": 3
   },
   "file_extension": ".py",
   "mimetype": "text/x-python",
   "name": "python",
   "nbconvert_exporter": "python",
   "pygments_lexer": "ipython3",
   "version": "3.9.5"
  }
 },
 "nbformat": 4,
 "nbformat_minor": 5
}
